{
  "nbformat": 4,
  "nbformat_minor": 0,
  "metadata": {
    "colab": {
      "name": "fake_news.ipynb",
      "provenance": [],
      "collapsed_sections": []
    },
    "kernelspec": {
      "name": "python3",
      "display_name": "Python 3"
    }
  },
  "cells": [
    {
      "cell_type": "markdown",
      "metadata": {
        "id": "blzOrLNktGuD"
      },
      "source": [
        "###**FAKE NEWS CLASSIFIER USING \"Passive Aggressive and Tf-idf Vectorizer\"**\n",
        "\n",
        "\n",
        "\n"
      ]
    },
    {
      "cell_type": "markdown",
      "metadata": {
        "id": "6eXeAGaKuIX0"
      },
      "source": [
        "Problem Statement : To build a model to accurately classify a news article as REAL or FAKE.\n",
        "\n",
        "Using sklearn,  build a *TfidfVectorizer* on the provided dataset. Then, initialize a *PassiveAggressive Classifier* and fit the model. \n",
        "In the end, the accuracy score and the confusion matrix tell us how well our model fares."
      ]
    },
    {
      "cell_type": "markdown",
      "source": [
        "# Importing all the necessary libraries"
      ],
      "metadata": {
        "id": "iAgKdGLTSJEb"
      }
    },
    {
      "cell_type": "code",
      "metadata": {
        "id": "5ZuwVkUUtg44"
      },
      "source": [
        "#First we will import all the libraries needed for the project\n",
        "import numpy as np\n",
        "import pandas as pd\n",
        "import itertools    #to return iterators\n",
        "\n",
        "#sklearn is a machine learning library\n",
        "import sklearn.metrics as metrics\n",
        "from sklearn.model_selection import train_test_split\n",
        "from sklearn.feature_extraction.text import TfidfVectorizer  #import TfIdf Vectorizer to convert text strings to meaningful numericals\n",
        "from sklearn.linear_model import PassiveAggressiveClassifier  #initialize PassiveAgressive Classifier to fit the model\n",
        "from sklearn.metrics import accuracy_score, confusion_matrix  #for finding the accuracy and the confusion matrix\n",
        "from sklearn.metrics import plot_confusion_matrix             #from the graphical view of the confusion matrix\n",
        "from sklearn.metrics import classification_report"
      ],
      "execution_count": 49,
      "outputs": []
    },
    {
      "cell_type": "markdown",
      "metadata": {
        "id": "C0oQU5OPv0-f"
      },
      "source": [
        "##*Data Exploration*"
      ]
    },
    {
      "cell_type": "code",
      "source": [
        "from google.colab import drive\n",
        "drive.mount('/content/drive/')"
      ],
      "metadata": {
        "id": "6ZP82sFnFjoz",
        "colab": {
          "base_uri": "https://localhost:8080/"
        },
        "outputId": "b0f56d39-3bb3-4321-f8a9-a90d2b8f3855"
      },
      "execution_count": 50,
      "outputs": [
        {
          "output_type": "stream",
          "name": "stdout",
          "text": [
            "Drive already mounted at /content/drive/; to attempt to forcibly remount, call drive.mount(\"/content/drive/\", force_remount=True).\n"
          ]
        }
      ]
    },
    {
      "cell_type": "code",
      "metadata": {
        "id": "zoDOzKz0veTN",
        "colab": {
          "base_uri": "https://localhost:8080/",
          "height": 694
        },
        "outputId": "bee5df95-4710-4a65-f4e0-27678dc78633"
      },
      "source": [
        "df=pd.read_csv(\"/content/drive/MyDrive/news.csv\")\n",
        "\n",
        "# df=pd.read_csv(\"/content/drive/MyDrive/submit.csv\")\n",
        "\n",
        "# printing the shape of dataset = no of rows and columns\n",
        "print(\"(Rows,Columns) = \",end=\"\")\n",
        "print(df.shape)\n",
        "\n",
        "# printing first 20 rows of the dataframe\n",
        "df.head(20)"
      ],
      "execution_count": 51,
      "outputs": [
        {
          "output_type": "stream",
          "name": "stdout",
          "text": [
            "(Rows,Columns) = (6335, 4)\n"
          ]
        },
        {
          "output_type": "execute_result",
          "data": {
            "text/plain": [
              "    Unnamed: 0                                              title  \\\n",
              "0         8476                       You Can Smell Hillary’s Fear   \n",
              "1        10294  Watch The Exact Moment Paul Ryan Committed Pol...   \n",
              "2         3608        Kerry to go to Paris in gesture of sympathy   \n",
              "3        10142  Bernie supporters on Twitter erupt in anger ag...   \n",
              "4          875   The Battle of New York: Why This Primary Matters   \n",
              "5         6903                                        Tehran, USA   \n",
              "6         7341  Girl Horrified At What She Watches Boyfriend D...   \n",
              "7           95                  ‘Britain’s Schindler’ Dies at 106   \n",
              "8         4869  Fact check: Trump and Clinton at the 'commande...   \n",
              "9         2909  Iran reportedly makes new push for uranium con...   \n",
              "10        1357  With all three Clintons in Iowa, a glimpse at ...   \n",
              "11         988  Donald Trump’s Shockingly Weak Delegate Game S...   \n",
              "12        7041  Strong Solar Storm, Tech Risks Today | S0 News...   \n",
              "13        7623       10 Ways America Is Preparing for World War 3   \n",
              "14        1571                   Trump takes on Cruz, but lightly   \n",
              "15        4739                         How women lead differently   \n",
              "16        7737  Shocking! Michele Obama & Hillary Caught Glamo...   \n",
              "17        8716  Hillary Clinton in HUGE Trouble After America ...   \n",
              "18        3304  What's in that Iran bill that Obama doesn't like?   \n",
              "19        3078  The 1 chart that explains everything you need ...   \n",
              "\n",
              "                                                 text label  \n",
              "0   Daniel Greenfield, a Shillman Journalism Fello...  FAKE  \n",
              "1   Google Pinterest Digg Linkedin Reddit Stumbleu...  FAKE  \n",
              "2   U.S. Secretary of State John F. Kerry said Mon...  REAL  \n",
              "3   — Kaydee King (@KaydeeKing) November 9, 2016 T...  FAKE  \n",
              "4   It's primary day in New York and front-runners...  REAL  \n",
              "5     \\nI’m not an immigrant, but my grandparents ...  FAKE  \n",
              "6   Share This Baylee Luciani (left), Screenshot o...  FAKE  \n",
              "7   A Czech stockbroker who saved more than 650 Je...  REAL  \n",
              "8   Hillary Clinton and Donald Trump made some ina...  REAL  \n",
              "9   Iranian negotiators reportedly have made a las...  REAL  \n",
              "10  CEDAR RAPIDS, Iowa — “I had one of the most wo...  REAL  \n",
              "11  Donald Trump’s organizational problems have go...  REAL  \n",
              "12  Click Here To Learn More About Alexandra's Per...  FAKE  \n",
              "13  October 31, 2016 at 4:52 am \\nPretty factual e...  FAKE  \n",
              "14  Killing Obama administration rules, dismantlin...  REAL  \n",
              "15  As more women move into high offices, they oft...  REAL  \n",
              "16  Shocking! Michele Obama & Hillary Caught Glamo...  FAKE  \n",
              "17  0 \\nHillary Clinton has barely just lost the p...  FAKE  \n",
              "18  Washington (CNN) For months, the White House a...  REAL  \n",
              "19  While paging through Pew's best data visualiza...  REAL  "
            ],
            "text/html": [
              "\n",
              "  <div id=\"df-a86424fc-8b4a-44b8-8c85-9bfa8f9b35fa\">\n",
              "    <div class=\"colab-df-container\">\n",
              "      <div>\n",
              "<style scoped>\n",
              "    .dataframe tbody tr th:only-of-type {\n",
              "        vertical-align: middle;\n",
              "    }\n",
              "\n",
              "    .dataframe tbody tr th {\n",
              "        vertical-align: top;\n",
              "    }\n",
              "\n",
              "    .dataframe thead th {\n",
              "        text-align: right;\n",
              "    }\n",
              "</style>\n",
              "<table border=\"1\" class=\"dataframe\">\n",
              "  <thead>\n",
              "    <tr style=\"text-align: right;\">\n",
              "      <th></th>\n",
              "      <th>Unnamed: 0</th>\n",
              "      <th>title</th>\n",
              "      <th>text</th>\n",
              "      <th>label</th>\n",
              "    </tr>\n",
              "  </thead>\n",
              "  <tbody>\n",
              "    <tr>\n",
              "      <th>0</th>\n",
              "      <td>8476</td>\n",
              "      <td>You Can Smell Hillary’s Fear</td>\n",
              "      <td>Daniel Greenfield, a Shillman Journalism Fello...</td>\n",
              "      <td>FAKE</td>\n",
              "    </tr>\n",
              "    <tr>\n",
              "      <th>1</th>\n",
              "      <td>10294</td>\n",
              "      <td>Watch The Exact Moment Paul Ryan Committed Pol...</td>\n",
              "      <td>Google Pinterest Digg Linkedin Reddit Stumbleu...</td>\n",
              "      <td>FAKE</td>\n",
              "    </tr>\n",
              "    <tr>\n",
              "      <th>2</th>\n",
              "      <td>3608</td>\n",
              "      <td>Kerry to go to Paris in gesture of sympathy</td>\n",
              "      <td>U.S. Secretary of State John F. Kerry said Mon...</td>\n",
              "      <td>REAL</td>\n",
              "    </tr>\n",
              "    <tr>\n",
              "      <th>3</th>\n",
              "      <td>10142</td>\n",
              "      <td>Bernie supporters on Twitter erupt in anger ag...</td>\n",
              "      <td>— Kaydee King (@KaydeeKing) November 9, 2016 T...</td>\n",
              "      <td>FAKE</td>\n",
              "    </tr>\n",
              "    <tr>\n",
              "      <th>4</th>\n",
              "      <td>875</td>\n",
              "      <td>The Battle of New York: Why This Primary Matters</td>\n",
              "      <td>It's primary day in New York and front-runners...</td>\n",
              "      <td>REAL</td>\n",
              "    </tr>\n",
              "    <tr>\n",
              "      <th>5</th>\n",
              "      <td>6903</td>\n",
              "      <td>Tehran, USA</td>\n",
              "      <td>\\nI’m not an immigrant, but my grandparents ...</td>\n",
              "      <td>FAKE</td>\n",
              "    </tr>\n",
              "    <tr>\n",
              "      <th>6</th>\n",
              "      <td>7341</td>\n",
              "      <td>Girl Horrified At What She Watches Boyfriend D...</td>\n",
              "      <td>Share This Baylee Luciani (left), Screenshot o...</td>\n",
              "      <td>FAKE</td>\n",
              "    </tr>\n",
              "    <tr>\n",
              "      <th>7</th>\n",
              "      <td>95</td>\n",
              "      <td>‘Britain’s Schindler’ Dies at 106</td>\n",
              "      <td>A Czech stockbroker who saved more than 650 Je...</td>\n",
              "      <td>REAL</td>\n",
              "    </tr>\n",
              "    <tr>\n",
              "      <th>8</th>\n",
              "      <td>4869</td>\n",
              "      <td>Fact check: Trump and Clinton at the 'commande...</td>\n",
              "      <td>Hillary Clinton and Donald Trump made some ina...</td>\n",
              "      <td>REAL</td>\n",
              "    </tr>\n",
              "    <tr>\n",
              "      <th>9</th>\n",
              "      <td>2909</td>\n",
              "      <td>Iran reportedly makes new push for uranium con...</td>\n",
              "      <td>Iranian negotiators reportedly have made a las...</td>\n",
              "      <td>REAL</td>\n",
              "    </tr>\n",
              "    <tr>\n",
              "      <th>10</th>\n",
              "      <td>1357</td>\n",
              "      <td>With all three Clintons in Iowa, a glimpse at ...</td>\n",
              "      <td>CEDAR RAPIDS, Iowa — “I had one of the most wo...</td>\n",
              "      <td>REAL</td>\n",
              "    </tr>\n",
              "    <tr>\n",
              "      <th>11</th>\n",
              "      <td>988</td>\n",
              "      <td>Donald Trump’s Shockingly Weak Delegate Game S...</td>\n",
              "      <td>Donald Trump’s organizational problems have go...</td>\n",
              "      <td>REAL</td>\n",
              "    </tr>\n",
              "    <tr>\n",
              "      <th>12</th>\n",
              "      <td>7041</td>\n",
              "      <td>Strong Solar Storm, Tech Risks Today | S0 News...</td>\n",
              "      <td>Click Here To Learn More About Alexandra's Per...</td>\n",
              "      <td>FAKE</td>\n",
              "    </tr>\n",
              "    <tr>\n",
              "      <th>13</th>\n",
              "      <td>7623</td>\n",
              "      <td>10 Ways America Is Preparing for World War 3</td>\n",
              "      <td>October 31, 2016 at 4:52 am \\nPretty factual e...</td>\n",
              "      <td>FAKE</td>\n",
              "    </tr>\n",
              "    <tr>\n",
              "      <th>14</th>\n",
              "      <td>1571</td>\n",
              "      <td>Trump takes on Cruz, but lightly</td>\n",
              "      <td>Killing Obama administration rules, dismantlin...</td>\n",
              "      <td>REAL</td>\n",
              "    </tr>\n",
              "    <tr>\n",
              "      <th>15</th>\n",
              "      <td>4739</td>\n",
              "      <td>How women lead differently</td>\n",
              "      <td>As more women move into high offices, they oft...</td>\n",
              "      <td>REAL</td>\n",
              "    </tr>\n",
              "    <tr>\n",
              "      <th>16</th>\n",
              "      <td>7737</td>\n",
              "      <td>Shocking! Michele Obama &amp; Hillary Caught Glamo...</td>\n",
              "      <td>Shocking! Michele Obama &amp; Hillary Caught Glamo...</td>\n",
              "      <td>FAKE</td>\n",
              "    </tr>\n",
              "    <tr>\n",
              "      <th>17</th>\n",
              "      <td>8716</td>\n",
              "      <td>Hillary Clinton in HUGE Trouble After America ...</td>\n",
              "      <td>0 \\nHillary Clinton has barely just lost the p...</td>\n",
              "      <td>FAKE</td>\n",
              "    </tr>\n",
              "    <tr>\n",
              "      <th>18</th>\n",
              "      <td>3304</td>\n",
              "      <td>What's in that Iran bill that Obama doesn't like?</td>\n",
              "      <td>Washington (CNN) For months, the White House a...</td>\n",
              "      <td>REAL</td>\n",
              "    </tr>\n",
              "    <tr>\n",
              "      <th>19</th>\n",
              "      <td>3078</td>\n",
              "      <td>The 1 chart that explains everything you need ...</td>\n",
              "      <td>While paging through Pew's best data visualiza...</td>\n",
              "      <td>REAL</td>\n",
              "    </tr>\n",
              "  </tbody>\n",
              "</table>\n",
              "</div>\n",
              "      <button class=\"colab-df-convert\" onclick=\"convertToInteractive('df-a86424fc-8b4a-44b8-8c85-9bfa8f9b35fa')\"\n",
              "              title=\"Convert this dataframe to an interactive table.\"\n",
              "              style=\"display:none;\">\n",
              "        \n",
              "  <svg xmlns=\"http://www.w3.org/2000/svg\" height=\"24px\"viewBox=\"0 0 24 24\"\n",
              "       width=\"24px\">\n",
              "    <path d=\"M0 0h24v24H0V0z\" fill=\"none\"/>\n",
              "    <path d=\"M18.56 5.44l.94 2.06.94-2.06 2.06-.94-2.06-.94-.94-2.06-.94 2.06-2.06.94zm-11 1L8.5 8.5l.94-2.06 2.06-.94-2.06-.94L8.5 2.5l-.94 2.06-2.06.94zm10 10l.94 2.06.94-2.06 2.06-.94-2.06-.94-.94-2.06-.94 2.06-2.06.94z\"/><path d=\"M17.41 7.96l-1.37-1.37c-.4-.4-.92-.59-1.43-.59-.52 0-1.04.2-1.43.59L10.3 9.45l-7.72 7.72c-.78.78-.78 2.05 0 2.83L4 21.41c.39.39.9.59 1.41.59.51 0 1.02-.2 1.41-.59l7.78-7.78 2.81-2.81c.8-.78.8-2.07 0-2.86zM5.41 20L4 18.59l7.72-7.72 1.47 1.35L5.41 20z\"/>\n",
              "  </svg>\n",
              "      </button>\n",
              "      \n",
              "  <style>\n",
              "    .colab-df-container {\n",
              "      display:flex;\n",
              "      flex-wrap:wrap;\n",
              "      gap: 12px;\n",
              "    }\n",
              "\n",
              "    .colab-df-convert {\n",
              "      background-color: #E8F0FE;\n",
              "      border: none;\n",
              "      border-radius: 50%;\n",
              "      cursor: pointer;\n",
              "      display: none;\n",
              "      fill: #1967D2;\n",
              "      height: 32px;\n",
              "      padding: 0 0 0 0;\n",
              "      width: 32px;\n",
              "    }\n",
              "\n",
              "    .colab-df-convert:hover {\n",
              "      background-color: #E2EBFA;\n",
              "      box-shadow: 0px 1px 2px rgba(60, 64, 67, 0.3), 0px 1px 3px 1px rgba(60, 64, 67, 0.15);\n",
              "      fill: #174EA6;\n",
              "    }\n",
              "\n",
              "    [theme=dark] .colab-df-convert {\n",
              "      background-color: #3B4455;\n",
              "      fill: #D2E3FC;\n",
              "    }\n",
              "\n",
              "    [theme=dark] .colab-df-convert:hover {\n",
              "      background-color: #434B5C;\n",
              "      box-shadow: 0px 1px 3px 1px rgba(0, 0, 0, 0.15);\n",
              "      filter: drop-shadow(0px 1px 2px rgba(0, 0, 0, 0.3));\n",
              "      fill: #FFFFFF;\n",
              "    }\n",
              "  </style>\n",
              "\n",
              "      <script>\n",
              "        const buttonEl =\n",
              "          document.querySelector('#df-a86424fc-8b4a-44b8-8c85-9bfa8f9b35fa button.colab-df-convert');\n",
              "        buttonEl.style.display =\n",
              "          google.colab.kernel.accessAllowed ? 'block' : 'none';\n",
              "\n",
              "        async function convertToInteractive(key) {\n",
              "          const element = document.querySelector('#df-a86424fc-8b4a-44b8-8c85-9bfa8f9b35fa');\n",
              "          const dataTable =\n",
              "            await google.colab.kernel.invokeFunction('convertToInteractive',\n",
              "                                                     [key], {});\n",
              "          if (!dataTable) return;\n",
              "\n",
              "          const docLinkHtml = 'Like what you see? Visit the ' +\n",
              "            '<a target=\"_blank\" href=https://colab.research.google.com/notebooks/data_table.ipynb>data table notebook</a>'\n",
              "            + ' to learn more about interactive tables.';\n",
              "          element.innerHTML = '';\n",
              "          dataTable['output_type'] = 'display_data';\n",
              "          await google.colab.output.renderOutput(dataTable, element);\n",
              "          const docLink = document.createElement('div');\n",
              "          docLink.innerHTML = docLinkHtml;\n",
              "          element.appendChild(docLink);\n",
              "        }\n",
              "      </script>\n",
              "    </div>\n",
              "  </div>\n",
              "  "
            ]
          },
          "metadata": {},
          "execution_count": 51
        }
      ]
    },
    {
      "cell_type": "code",
      "metadata": {
        "id": "h0GY10Xjx_Bc",
        "colab": {
          "base_uri": "https://localhost:8080/"
        },
        "outputId": "fb28711b-158f-4db1-ecbc-934be43c4cbd"
      },
      "source": [
        "print(df.columns)  #gives the list of columns"
      ],
      "execution_count": 52,
      "outputs": [
        {
          "output_type": "stream",
          "name": "stdout",
          "text": [
            "Index(['Unnamed: 0', 'title', 'text', 'label'], dtype='object')\n"
          ]
        }
      ]
    },
    {
      "cell_type": "code",
      "metadata": {
        "id": "t31wZ2-fzALS",
        "colab": {
          "base_uri": "https://localhost:8080/"
        },
        "outputId": "f48a0974-65a9-4d00-c247-157faf3b6eed"
      },
      "source": [
        "labels=df.label\n",
        "labels.head(20)"
      ],
      "execution_count": 53,
      "outputs": [
        {
          "output_type": "execute_result",
          "data": {
            "text/plain": [
              "0     FAKE\n",
              "1     FAKE\n",
              "2     REAL\n",
              "3     FAKE\n",
              "4     REAL\n",
              "5     FAKE\n",
              "6     FAKE\n",
              "7     REAL\n",
              "8     REAL\n",
              "9     REAL\n",
              "10    REAL\n",
              "11    REAL\n",
              "12    FAKE\n",
              "13    FAKE\n",
              "14    REAL\n",
              "15    REAL\n",
              "16    FAKE\n",
              "17    FAKE\n",
              "18    REAL\n",
              "19    REAL\n",
              "Name: label, dtype: object"
            ]
          },
          "metadata": {},
          "execution_count": 53
        }
      ]
    },
    {
      "cell_type": "markdown",
      "source": [
        "#Split the dataset for training and testing"
      ],
      "metadata": {
        "id": "g0IRPS5YMX76"
      }
    },
    {
      "cell_type": "code",
      "metadata": {
        "id": "xNcNYr8rzkMa"
      },
      "source": [
        "x_train,x_test,y_train,y_test=train_test_split(df['text'], labels, test_size=0.2, random_state=7)\n",
        "#20 percent data will be used for training\n",
        "#the column text will be taken as x_train and the column to be trained is the labels."
      ],
      "execution_count": 54,
      "outputs": []
    },
    {
      "cell_type": "code",
      "source": [
        "# Counting number of rows and columns in the training data\n",
        "print('Shape of Training Data: ', x_train.shape)"
      ],
      "metadata": {
        "id": "rscJy8ZLMVeC",
        "colab": {
          "base_uri": "https://localhost:8080/"
        },
        "outputId": "eb432252-f0c9-46f6-84a1-e2f1a982fe59"
      },
      "execution_count": 55,
      "outputs": [
        {
          "output_type": "stream",
          "name": "stdout",
          "text": [
            "Shape of Training Data:  (5068,)\n"
          ]
        }
      ]
    },
    {
      "cell_type": "markdown",
      "metadata": {
        "id": "SSJysLFA0xTC"
      },
      "source": [
        "# Building and intializing the  TfidfVectorizer"
      ]
    },
    {
      "cell_type": "code",
      "metadata": {
        "id": "YbpiEKKX0mUG",
        "colab": {
          "base_uri": "https://localhost:8080/"
        },
        "outputId": "76834dc3-016c-43c3-9311-1d0ff52706c5"
      },
      "source": [
        "import nltk\n",
        "stopwords = nltk.corpus.stopwords.words('english')\n",
        "# printing the stopwords in English\n",
        "print('Stop Words are:\\n',stopwords)\n",
        "t_vectorizer=TfidfVectorizer(stop_words='english', max_df=0.7) \n",
        "#this will stop the english words \n",
        "#words which occur more than 70 percent of the artices will be discarded\n",
        "\n",
        "t_train=t_vectorizer.fit_transform(x_train.astype(str)) \n",
        "\n",
        "t_test=t_vectorizer.transform(x_test.astype(str))"
      ],
      "execution_count": 56,
      "outputs": [
        {
          "output_type": "stream",
          "name": "stdout",
          "text": [
            "Stop Words are:\n",
            " ['i', 'me', 'my', 'myself', 'we', 'our', 'ours', 'ourselves', 'you', \"you're\", \"you've\", \"you'll\", \"you'd\", 'your', 'yours', 'yourself', 'yourselves', 'he', 'him', 'his', 'himself', 'she', \"she's\", 'her', 'hers', 'herself', 'it', \"it's\", 'its', 'itself', 'they', 'them', 'their', 'theirs', 'themselves', 'what', 'which', 'who', 'whom', 'this', 'that', \"that'll\", 'these', 'those', 'am', 'is', 'are', 'was', 'were', 'be', 'been', 'being', 'have', 'has', 'had', 'having', 'do', 'does', 'did', 'doing', 'a', 'an', 'the', 'and', 'but', 'if', 'or', 'because', 'as', 'until', 'while', 'of', 'at', 'by', 'for', 'with', 'about', 'against', 'between', 'into', 'through', 'during', 'before', 'after', 'above', 'below', 'to', 'from', 'up', 'down', 'in', 'out', 'on', 'off', 'over', 'under', 'again', 'further', 'then', 'once', 'here', 'there', 'when', 'where', 'why', 'how', 'all', 'any', 'both', 'each', 'few', 'more', 'most', 'other', 'some', 'such', 'no', 'nor', 'not', 'only', 'own', 'same', 'so', 'than', 'too', 'very', 's', 't', 'can', 'will', 'just', 'don', \"don't\", 'should', \"should've\", 'now', 'd', 'll', 'm', 'o', 're', 've', 'y', 'ain', 'aren', \"aren't\", 'couldn', \"couldn't\", 'didn', \"didn't\", 'doesn', \"doesn't\", 'hadn', \"hadn't\", 'hasn', \"hasn't\", 'haven', \"haven't\", 'isn', \"isn't\", 'ma', 'mightn', \"mightn't\", 'mustn', \"mustn't\", 'needn', \"needn't\", 'shan', \"shan't\", 'shouldn', \"shouldn't\", 'wasn', \"wasn't\", 'weren', \"weren't\", 'won', \"won't\", 'wouldn', \"wouldn't\"]\n"
          ]
        }
      ]
    },
    {
      "cell_type": "markdown",
      "source": [
        "# Removing null valued rows in dataset"
      ],
      "metadata": {
        "id": "6w2BjXyvuZnW"
      }
    },
    {
      "cell_type": "code",
      "source": [
        "#checking for noisy data and droping null rows\n",
        "print('Number of Null values in dataset: ', df['text'].isna().sum())\n",
        "\n",
        "# Dropping all rows where text column is NaN\n",
        "df.dropna(axis=0, how=\"any\", thresh=None, subset=['text'], inplace=True)\n",
        "df = df.fillna(' ')"
      ],
      "metadata": {
        "id": "Ce0ZWv1PuR5V",
        "colab": {
          "base_uri": "https://localhost:8080/"
        },
        "outputId": "e136d6ad-f791-448d-ca34-a09cdcf45344"
      },
      "execution_count": 57,
      "outputs": [
        {
          "output_type": "stream",
          "name": "stdout",
          "text": [
            "Number of Null values in dataset:  0\n"
          ]
        }
      ]
    },
    {
      "cell_type": "markdown",
      "source": [
        "# Checking length of articles and removing articles with length less than 50 words"
      ],
      "metadata": {
        "id": "VMK1csWV0fIw"
      }
    },
    {
      "cell_type": "code",
      "source": [
        "# Checking length of each article\n",
        "length = []\n",
        "[length.append(len(str(text))) for text in df['text']]\n",
        "df['length'] = length\n",
        "\n",
        "print('Minimum Length: ', min(df['length']), '\\nMaximum Length: ', max(df['length']), '\\nAverage Length: ', round(sum(df['length'])/len(df['length'])))\n",
        "\n",
        "# Minimum length is 1. We need to spot some outliers and get rid of them. Counting how many outliers are there\n",
        "print('\\nNumber of articles with less than 50 words: ', len(df[df['length'] < 50]))\n",
        "\n",
        "# Skimming through such short texts just to be sure\n",
        "print(df['text'][df['length'] < 50])\n",
        "\n",
        "# Removing outliers, it will reduce overfitting\n",
        "df = df.drop(df['text'][df['length'] < 50].index, axis = 0)\n",
        "\n",
        "print('\\nMinimum Length: ', min(df['length']), '\\nMaximum Length: ', max(df['length']), '\\nAverage Length: ', round(sum(df['length'])/len(df['length'])))\n"
      ],
      "metadata": {
        "id": "I3N7sAok0ewr",
        "colab": {
          "base_uri": "https://localhost:8080/"
        },
        "outputId": "1d007441-6a58-480e-c22d-e96bc73aa86b"
      },
      "execution_count": 58,
      "outputs": [
        {
          "output_type": "stream",
          "name": "stdout",
          "text": [
            "Minimum Length:  1 \n",
            "Maximum Length:  115372 \n",
            "Average Length:  4707\n",
            "\n",
            "Number of articles with less than 50 words:  45\n",
            "106                                                  \n",
            "238     Hillary Clinton can’t believe she’s losing.  \n",
            "710                                                  \n",
            "806                                                  \n",
            "919                                                  \n",
            "940                                                  \n",
            "1268       Posted: Nov 6th, 2016 by MADJEZ   MADJEZ  \n",
            "1664                                                 \n",
            "1736                                                 \n",
            "1851                                                 \n",
            "1883                                                 \n",
            "1941                                                 \n",
            "2244                                                 \n",
            "2261      Should the U.S. Continue to Support Israel?\n",
            "2426                                                 \n",
            "2576                                                 \n",
            "2650                                     11/08/2016  \n",
            "2662                                                 \n",
            "2788                                                 \n",
            "2832                                                 \n",
            "3073                                                 \n",
            "3350                                                 \n",
            "3511                                                 \n",
            "3531              Adrian Bamforth   Adrian Bamforth  \n",
            "3577                                  Guest   Guest  \n",
            "3641                                                 \n",
            "3642                                                 \n",
            "3945                                    RECENT POSTS \n",
            "4014                                                 \n",
            "4142                                                 \n",
            "4253                                                 \n",
            "4396               Gary North has the video . 12:56  \n",
            "4713                                                 \n",
            "4744                                                 \n",
            "5017                                                 \n",
            "5088                                                 \n",
            "5213                                                 \n",
            "5581                                                 \n",
            "5636         The Dark Art of Political Intimidation  \n",
            "5639                                                 \n",
            "5699                                                 \n",
            "5772                                                 \n",
            "6064                                                 \n",
            "6175                                                 \n",
            "6328                                                 \n",
            "Name: text, dtype: object\n",
            "\n",
            "Minimum Length:  50 \n",
            "Maximum Length:  115372 \n",
            "Average Length:  4741\n"
          ]
        }
      ]
    },
    {
      "cell_type": "markdown",
      "source": [
        "# Finding accuracy score"
      ],
      "metadata": {
        "id": "cHIsi19RuiYC"
      }
    },
    {
      "cell_type": "code",
      "metadata": {
        "id": "ep8kf0OLz0ab",
        "colab": {
          "base_uri": "https://localhost:8080/"
        },
        "outputId": "44c51295-a9c6-48bb-e7b1-26c25235325b"
      },
      "source": [
        "#to find the value of  max_iter from 1 to 100 which gives the highest accuracy we will use a loop\n",
        "score11=[0]*101\n",
        "for max_iter in range (1,101):\n",
        "  pac1=PassiveAggressiveClassifier(max_iter=max_iter)\n",
        "  pac1.fit(t_train,y_train)\n",
        "  y_pred=pac1.predict(t_test)\n",
        "  score11[max_iter]=accuracy_score(y_test,y_pred)\n",
        "  print(max_iter,end=\" \")\n",
        "  print(f'Accuracy: {round(score11[max_iter]*100,2)}%')\n",
        "print(\"  \")\n",
        "print(\"The highest value of accuracy is at max-iter of value:\" ,end=\" \")\n",
        "print(score11.index(max(score11))) #print the value of iter where value is max\n",
        "print('ACCURACY SCORE OF THE TEST DATA: ',end=\"\")\n",
        "print(round(max(score11)*100),end=\" %\")"
      ],
      "execution_count": 59,
      "outputs": [
        {
          "output_type": "stream",
          "name": "stdout",
          "text": [
            "1 Accuracy: 92.9%\n",
            "2 Accuracy: 92.66%\n",
            "3 Accuracy: 92.9%\n",
            "4 Accuracy: 92.9%\n"
          ]
        },
        {
          "output_type": "stream",
          "name": "stderr",
          "text": [
            "/usr/local/lib/python3.7/dist-packages/sklearn/linear_model/_stochastic_gradient.py:700: ConvergenceWarning: Maximum number of iteration reached before convergence. Consider increasing max_iter to improve the fit.\n",
            "  ConvergenceWarning,\n",
            "/usr/local/lib/python3.7/dist-packages/sklearn/linear_model/_stochastic_gradient.py:700: ConvergenceWarning: Maximum number of iteration reached before convergence. Consider increasing max_iter to improve the fit.\n",
            "  ConvergenceWarning,\n",
            "/usr/local/lib/python3.7/dist-packages/sklearn/linear_model/_stochastic_gradient.py:700: ConvergenceWarning: Maximum number of iteration reached before convergence. Consider increasing max_iter to improve the fit.\n",
            "  ConvergenceWarning,\n",
            "/usr/local/lib/python3.7/dist-packages/sklearn/linear_model/_stochastic_gradient.py:700: ConvergenceWarning: Maximum number of iteration reached before convergence. Consider increasing max_iter to improve the fit.\n",
            "  ConvergenceWarning,\n",
            "/usr/local/lib/python3.7/dist-packages/sklearn/linear_model/_stochastic_gradient.py:700: ConvergenceWarning: Maximum number of iteration reached before convergence. Consider increasing max_iter to improve the fit.\n",
            "  ConvergenceWarning,\n"
          ]
        },
        {
          "output_type": "stream",
          "name": "stdout",
          "text": [
            "5 Accuracy: 92.98%\n",
            "6 Accuracy: 92.66%\n",
            "7 Accuracy: 92.9%\n"
          ]
        },
        {
          "output_type": "stream",
          "name": "stderr",
          "text": [
            "/usr/local/lib/python3.7/dist-packages/sklearn/linear_model/_stochastic_gradient.py:700: ConvergenceWarning: Maximum number of iteration reached before convergence. Consider increasing max_iter to improve the fit.\n",
            "  ConvergenceWarning,\n",
            "/usr/local/lib/python3.7/dist-packages/sklearn/linear_model/_stochastic_gradient.py:700: ConvergenceWarning: Maximum number of iteration reached before convergence. Consider increasing max_iter to improve the fit.\n",
            "  ConvergenceWarning,\n",
            "/usr/local/lib/python3.7/dist-packages/sklearn/linear_model/_stochastic_gradient.py:700: ConvergenceWarning: Maximum number of iteration reached before convergence. Consider increasing max_iter to improve the fit.\n",
            "  ConvergenceWarning,\n"
          ]
        },
        {
          "output_type": "stream",
          "name": "stdout",
          "text": [
            "8 Accuracy: 92.9%\n",
            "9 Accuracy: 92.42%\n",
            "10"
          ]
        },
        {
          "output_type": "stream",
          "name": "stderr",
          "text": [
            "/usr/local/lib/python3.7/dist-packages/sklearn/linear_model/_stochastic_gradient.py:700: ConvergenceWarning: Maximum number of iteration reached before convergence. Consider increasing max_iter to improve the fit.\n",
            "  ConvergenceWarning,\n",
            "/usr/local/lib/python3.7/dist-packages/sklearn/linear_model/_stochastic_gradient.py:700: ConvergenceWarning: Maximum number of iteration reached before convergence. Consider increasing max_iter to improve the fit.\n",
            "  ConvergenceWarning,\n"
          ]
        },
        {
          "output_type": "stream",
          "name": "stdout",
          "text": [
            " Accuracy: 92.98%\n",
            "11 Accuracy: 92.74%\n"
          ]
        },
        {
          "output_type": "stream",
          "name": "stderr",
          "text": [
            "/usr/local/lib/python3.7/dist-packages/sklearn/linear_model/_stochastic_gradient.py:700: ConvergenceWarning: Maximum number of iteration reached before convergence. Consider increasing max_iter to improve the fit.\n",
            "  ConvergenceWarning,\n",
            "/usr/local/lib/python3.7/dist-packages/sklearn/linear_model/_stochastic_gradient.py:700: ConvergenceWarning: Maximum number of iteration reached before convergence. Consider increasing max_iter to improve the fit.\n",
            "  ConvergenceWarning,\n"
          ]
        },
        {
          "output_type": "stream",
          "name": "stdout",
          "text": [
            "12 Accuracy: 92.66%\n",
            "13 Accuracy: 92.9%\n",
            "14 Accuracy: 93.05%\n",
            "15 Accuracy: 92.98%\n",
            "16 Accuracy: 92.74%\n",
            "17 Accuracy: 92.5%\n",
            "18 Accuracy: 92.9%\n",
            "19 Accuracy: 93.29%\n",
            "20 Accuracy: 93.05%\n",
            "21 Accuracy: 92.34%\n",
            "22 Accuracy: 92.74%\n",
            "23 Accuracy: 93.13%\n",
            "24 Accuracy: 92.74%\n",
            "25 Accuracy: 92.27%\n",
            "26 Accuracy: 92.66%\n",
            "27 Accuracy: 92.5%\n",
            "28 Accuracy: 92.82%\n",
            "29 Accuracy: 92.9%\n",
            "30 Accuracy: 92.9%\n",
            "31 Accuracy: 92.74%\n",
            "32 Accuracy: 92.66%\n",
            "33 Accuracy: 92.82%\n",
            "34 Accuracy: 92.98%\n",
            "35 Accuracy: 92.9%\n",
            "36 Accuracy: 93.13%\n",
            "37 Accuracy: 92.66%\n",
            "38 Accuracy: 92.58%\n",
            "39 Accuracy: 92.66%\n",
            "40 Accuracy: 92.82%\n",
            "41 Accuracy: 93.13%\n",
            "42 Accuracy: 92.9%\n",
            "43 Accuracy: 92.82%\n",
            "44 Accuracy: 93.05%\n",
            "45 Accuracy: 92.9%\n",
            "46 Accuracy: 92.82%\n",
            "47 Accuracy: 93.21%\n",
            "48 Accuracy: 92.82%\n",
            "49 Accuracy: 93.05%\n",
            "50 Accuracy: 92.74%\n",
            "51 Accuracy: 93.05%\n",
            "52 Accuracy: 92.74%\n",
            "53 Accuracy: 92.82%\n",
            "54 Accuracy: 92.9%\n",
            "55 Accuracy: 92.5%\n",
            "56 Accuracy: 92.74%\n",
            "57 Accuracy: 92.58%\n",
            "58 Accuracy: 92.74%\n",
            "59 Accuracy: 92.74%\n",
            "60 Accuracy: 92.9%\n",
            "61 Accuracy: 92.66%\n",
            "62 Accuracy: 92.66%\n",
            "63 Accuracy: 92.9%\n",
            "64 Accuracy: 92.58%\n",
            "65 Accuracy: 93.13%\n",
            "66 Accuracy: 92.58%\n",
            "67 Accuracy: 92.98%\n",
            "68 Accuracy: 92.9%\n",
            "69 Accuracy: 92.74%\n",
            "70 Accuracy: 92.5%\n",
            "71 Accuracy: 92.74%\n",
            "72 Accuracy: 92.82%\n",
            "73 Accuracy: 93.13%\n",
            "74 Accuracy: 92.82%\n",
            "75 Accuracy: 92.66%\n",
            "76 Accuracy: 92.98%\n",
            "77 Accuracy: 92.74%\n",
            "78 Accuracy: 93.05%\n",
            "79 Accuracy: 92.5%\n",
            "80 Accuracy: 92.34%\n",
            "81 Accuracy: 92.9%\n",
            "82 Accuracy: 93.05%\n",
            "83 Accuracy: 92.66%\n",
            "84 Accuracy: 92.98%\n",
            "85 Accuracy: 92.98%\n",
            "86 Accuracy: 92.74%\n",
            "87 Accuracy: 93.13%\n",
            "88 Accuracy: 92.66%\n",
            "89 Accuracy: 92.5%\n",
            "90 Accuracy: 92.9%\n",
            "91 Accuracy: 93.05%\n",
            "92 Accuracy: 93.45%\n",
            "93 Accuracy: 92.9%\n",
            "94 Accuracy: 92.34%\n",
            "95 Accuracy: 92.66%\n",
            "96 Accuracy: 92.58%\n",
            "97 Accuracy: 92.74%\n",
            "98 Accuracy: 92.98%\n",
            "99 Accuracy: 92.82%\n",
            "100 Accuracy: 92.98%\n",
            "  \n",
            "The highest value of accuracy is at max-iter of value: 92\n",
            "ACCURACY SCORE OF THE TEST DATA: 93 %"
          ]
        }
      ]
    },
    {
      "cell_type": "markdown",
      "metadata": {
        "id": "04A997WqHL55"
      },
      "source": [
        "###THE CONFUSION MATRIX"
      ]
    },
    {
      "cell_type": "code",
      "metadata": {
        "id": "AzDTuPNC21Ea",
        "colab": {
          "base_uri": "https://localhost:8080/"
        },
        "outputId": "553bc18a-b973-4d9a-ca67-528df8b22ab5"
      },
      "source": [
        "m=confusion_matrix(y_test,y_pred, labels=['FAKE','REAL'])\n",
        "# m=confusion_matrix(y_test,y_pred, labels=[1,0])\n",
        "print(m)"
      ],
      "execution_count": 60,
      "outputs": [
        {
          "output_type": "stream",
          "name": "stdout",
          "text": [
            "[[591  47]\n",
            " [ 42 587]]\n"
          ]
        }
      ]
    },
    {
      "cell_type": "markdown",
      "metadata": {
        "id": "LetQl5xf_6sG"
      },
      "source": [
        "### *PLOTTING THE CONFUSION MATRIX USING SEABORN*"
      ]
    },
    {
      "cell_type": "code",
      "metadata": {
        "id": "RC4REygl7C9E",
        "colab": {
          "base_uri": "https://localhost:8080/",
          "height": 331
        },
        "outputId": "76abbc63-c432-496c-fef1-8742350ab649"
      },
      "source": [
        "import seaborn as sn\n",
        "import matplotlib.pyplot as plt\n",
        "\n",
        "ax=plt.subplot()\n",
        "\n",
        "sn.heatmap(m ,annot=True,ax = ax,fmt='g',cmap='RdYlBu') \n",
        " #cmap = sets the color \n",
        " #fmt is used to pass value as string\n",
        "plt.figure(figsize=(15,15))  #size of figure\n",
        "\n",
        "ax.set_xlabel('Predicted labels')\n",
        "ax.set_ylabel('True labels')\n",
        "ax.xaxis.set_ticklabels(['FAKE', 'REAL'])\n",
        "ax.yaxis.set_ticklabels(['FAKE', 'REAL'])\n",
        "\n",
        "ax.set_title('Confusion Matrix of the Passive Aggressive classifier') #title of matrix\n",
        "print(\" \")  "
      ],
      "execution_count": 61,
      "outputs": [
        {
          "output_type": "stream",
          "name": "stdout",
          "text": [
            " \n"
          ]
        },
        {
          "output_type": "display_data",
          "data": {
            "text/plain": [
              "<Figure size 432x288 with 2 Axes>"
            ],
            "image/png": "[encoded data removed]"
          },
          "metadata": {
            "needs_background": "light"
          }
        },
        {
          "output_type": "display_data",
          "data": {
            "text/plain": [
              "<Figure size 1080x1080 with 0 Axes>"
            ]
          },
          "metadata": {}
        }
      ]
    },
    {
      "cell_type": "markdown",
      "source": [
        "# Classification Report"
      ],
      "metadata": {
        "id": "2X52hEjeStTy"
      }
    },
    {
      "cell_type": "code",
      "source": [
        "print('\\nCLASSIFICATION REPORT: \\n',classification_report(y_test, y_pred, labels=['FAKE', 'REAL']))\n",
        "# print('\\nCLASSIFICATION REPORT: \\n',classification_report(y_test, y_pred, labels=[1,0])) # 1-- FAKE and  0 -- REAL\n",
        "#print(df.shape)"
      ],
      "metadata": {
        "id": "G7Z8zx9uSsTZ",
        "colab": {
          "base_uri": "https://localhost:8080/"
        },
        "outputId": "b3bf5681-0b7a-4591-e796-15c787f3aee0"
      },
      "execution_count": 62,
      "outputs": [
        {
          "output_type": "stream",
          "name": "stdout",
          "text": [
            "\n",
            "CLASSIFICATION REPORT: \n",
            "               precision    recall  f1-score   support\n",
            "\n",
            "        FAKE       0.93      0.93      0.93       638\n",
            "        REAL       0.93      0.93      0.93       629\n",
            "\n",
            "    accuracy                           0.93      1267\n",
            "   macro avg       0.93      0.93      0.93      1267\n",
            "weighted avg       0.93      0.93      0.93      1267\n",
            "\n"
          ]
        }
      ]
    },
    {
      "cell_type": "code",
      "source": [
        "classifier=PassiveAggressiveClassifier(max_iter=100)\n",
        "classifier.fit(t_train,y_train)"
      ],
      "metadata": {
        "colab": {
          "base_uri": "https://localhost:8080/"
        },
        "id": "8KdxfdTIi1su",
        "outputId": "c73b9707-f664-416f-e2b7-8b3b452b04e3"
      },
      "execution_count": 63,
      "outputs": [
        {
          "output_type": "execute_result",
          "data": {
            "text/plain": [
              "PassiveAggressiveClassifier(max_iter=100)"
            ]
          },
          "metadata": {},
          "execution_count": 63
        }
      ]
    },
    {
      "cell_type": "code",
      "source": [
        "def fake_news_det(news):\n",
        "    input_data = [news]\n",
        "    vectorized_input_data = t_vectorizer.transform(input_data)\n",
        "    prediction = classifier.predict(vectorized_input_data)\n",
        "    print(prediction)"
      ],
      "metadata": {
        "id": "ZNZBI1qHZ20A"
      },
      "execution_count": 64,
      "outputs": []
    },
    {
      "cell_type": "markdown",
      "source": [
        "# Testing over one input"
      ],
      "metadata": {
        "id": "8Hi0B1eVzFnv"
      }
    },
    {
      "cell_type": "code",
      "source": [
        "fake_news_det(\"\"\"Daniel Greenfield, a Shillman Journalism Fellow at the Freedom Center, is a New York writer focusing on radical Islam. \n",
        "In the final stretch of the election, Hillary Rodham Clinton has gone to war with the FBI. \n",
        "The word â€œunprecedentedâ€ has been thrown around so often this election that it ought to be retired. But itâ€™s still unprecedented for the nominee of a major political party to go war with the FBI. \n",
        "But thatâ€™s exactly what Hillary and her people have done. Coma patients just waking up now and watching an hour of CNN from their hospital beds would assume that FBI Director James Comey is Hillaryâ€™s opponent in this election. \n",
        "The FBI is under attack by everyone from Obama to CNN. Hillaryâ€™s people have circulated a letter attacking Comey. There are currently more media hit pieces lambasting him than targeting Trump. It wouldnâ€™t be too surprising if the Clintons or their allies were to start running attack ads against the FBI. \n",
        "The FBIâ€™s leadership is being warned that the entire left-wing establishment will form a lynch mob if they continue going after Hillary. And the FBIâ€™s credibility is being attacked by the media and the Democrats to preemptively head off the results of the investigation of the Clinton Foundation and Hillary Clinton. \n",
        "The covert struggle between FBI agents and Obamaâ€™s DOJ people has gone explosively public. \n",
        "The New York Times has compared Comey to J. Edgar Hoover. Its bizarre headline, â€œJames Comey Role Recalls Hooverâ€™s FBI, Fairly or Notâ€ practically admits up front that itâ€™s spouting nonsense. The Boston Globe has published a column calling for Comeyâ€™s resignation. Not to be outdone, Time has an editorial claiming that the scandal is really an attack on all women. \n",
        "James Carville appeared on MSNBC to remind everyone that he was still alive and insane. He accused Comey of coordinating with House Republicans and the KGB. And you thought the â€œvast right wing conspiracyâ€ was a stretch. \n",
        "Countless media stories charge Comey with violating procedure. Do you know whatâ€™s a procedural violation? Emailing classified information stored on your bathroom server. \n",
        "Senator Harry Reid has sent Comey a letter accusing him of violating the Hatch Act. The Hatch Act is a nice idea that has as much relevance in the age of Obama as the Tenth Amendment. But the cable news spectrum quickly filled with media hacks glancing at the Wikipedia article on the Hatch Act under the table while accusing the FBI director of one of the most awkward conspiracies against Hillary ever. \n",
        "If James Comey is really out to hurt Hillary, he picked one hell of a strange way to do it. \n",
        "Not too long ago Democrats were breathing a sigh of relief when he gave Hillary Clinton a pass in a prominent public statement. If he really were out to elect Trump by keeping the email scandal going, why did he trash the investigation? Was he on the payroll of House Republicans and the KGB back then and playing it coy or was it a sudden development where Vladimir Putin and Paul Ryan talked him into taking a look at Anthony Weinerâ€™s computer? \n",
        "Either Comey is the most cunning FBI director that ever lived or heâ€™s just awkwardly trying to navigate a political mess that has trapped him between a DOJ leadership whose political futures are tied to Hillaryâ€™s victory and his own bureau whose apolitical agents just want to be allowed to do their jobs. \n",
        "The only truly mysterious thing is why Hillary and her associates decided to go to war with a respected Federal agency. Most Americans like the FBI while Hillary Clinton enjoys a 60% unfavorable rating. \n",
        "And itâ€™s an interesting question. \n",
        "Hillaryâ€™s old strategy was to lie and deny that the FBI even had a criminal investigation underway. Instead her associates insisted that it was a security review. The FBI corrected her and she shrugged it off. But the old breezy denial approach has given way to a savage assault on the FBI. \n",
        "Pretending that nothing was wrong was a bad strategy, but it was a better one that picking a fight with the FBI while lunatic Clinton associates try to claim that the FBI is really the KGB. \n",
        "There are two possible explanations. \n",
        "Hillary Clinton might be arrogant enough to lash out at the FBI now that she believes that victory is near. The same kind of hubris that led her to plan her victory fireworks display could lead her to declare a war on the FBI for irritating her during the final miles of her campaign. \n",
        "But the other explanation is that her people panicked. \n",
        "Going to war with the FBI is not the behavior of a smart and focused presidential campaign. Itâ€™s an act of desperation. When a presidential candidate decides that her only option is to try and destroy the credibility of the FBI, thatâ€™s not hubris, itâ€™s fear of what the FBI might be about to reveal about her. \n",
        "During the original FBI investigation, Hillary Clinton was confident that she could ride it out. And she had good reason for believing that. But that Hillary Clinton is gone. In her place is a paranoid wreck. Within a short space of time the â€œpositiveâ€ Clinton campaign promising to unite the country has been replaced by a desperate and flailing operation that has focused all its energy on fighting the FBI. \n",
        "Thereâ€™s only one reason for such bizarre behavior. \n",
        "The Clinton campaign has decided that an FBI investigation of the latest batch of emails poses a threat to its survival. And so itâ€™s gone all in on fighting the FBI. Itâ€™s an unprecedented step born of fear. Itâ€™s hard to know whether that fear is justified. But the existence of that fear already tells us a whole lot. \n",
        "Clinton loyalists rigged the old investigation. They knew the outcome ahead of time as well as they knew the debate questions. Now suddenly they are no longer in control. And they are afraid. \n",
        "You can smell the fear. \n",
        "The FBI has wiretaps from the investigation of the Clinton Foundation. Itâ€™s finding new emails all the time. And Clintonworld panicked. The spinmeisters of Clintonworld have claimed that the email scandal is just so much smoke without fire. All thatâ€™s here is the appearance of impropriety without any of the substance. But this isnâ€™t how you react to smoke. Itâ€™s how you respond to a fire. \n",
        "The misguided assault on the FBI tells us that Hillary Clinton and her allies are afraid of a revelation bigger than the fundamental illegality of her email setup. The email setup was a preemptive cover up. The Clinton campaign has panicked badly out of the belief, right or wrong, that whatever crime the illegal setup was meant to cover up is at risk of being exposed. \n",
        "The Clintons have weathered countless scandals over the years. Whatever they are protecting this time around is bigger than the usual corruption, bribery, sexual assaults and abuses of power that have followed them around throughout the years. This is bigger and more damaging than any of the allegations that have already come out. And they donâ€™t want FBI investigators anywhere near it. \n",
        "The campaign against Comey is pure intimidation. Itâ€™s also a warning. Any senior FBI people who value their careers are being warned to stay away. The Democrats are closing ranks around their nominee against the FBI. Itâ€™s an ugly and unprecedented scene. It may also be their last stand. \n",
        "Hillary Clinton has awkwardly wound her way through numerous scandals in just this election cycle. But sheâ€™s never shown fear or desperation before. Now that has changed. Whatever she is afraid of, it lies buried in her emails with Huma Abedin. And it can bring her down like nothing else has.  \"\"\")"
      ],
      "metadata": {
        "colab": {
          "base_uri": "https://localhost:8080/"
        },
        "id": "xMtehxvKiGvF",
        "outputId": "0a42b7bb-b885-46c7-b3a1-3b66b0881090"
      },
      "execution_count": 65,
      "outputs": [
        {
          "output_type": "stream",
          "name": "stdout",
          "text": [
            "['FAKE']\n"
          ]
        }
      ]
    },
    {
      "cell_type": "markdown",
      "source": [
        "# Saving the model"
      ],
      "metadata": {
        "id": "ZS9Haak_zAna"
      }
    },
    {
      "cell_type": "code",
      "source": [
        "import pickle\n",
        "pickle.dump(classifier,open('model.pkl', 'wb'))"
      ],
      "metadata": {
        "id": "yFSzl5OErQyW"
      },
      "execution_count": 66,
      "outputs": []
    },
    {
      "cell_type": "code",
      "source": [
        "# load the model from disk\n",
        "loaded_model = pickle.load(open('model.pkl', 'rb'))"
      ],
      "metadata": {
        "id": "DF0Vg7YprUwP"
      },
      "execution_count": 67,
      "outputs": []
    },
    {
      "cell_type": "code",
      "source": [
        "def fake_news_det1(news):\n",
        "    input_data = [news]\n",
        "    vectorized_input_data =  t_vectorizer.transform(input_data)\n",
        "    prediction = loaded_model.predict(vectorized_input_data)\n",
        "    print(prediction)"
      ],
      "metadata": {
        "id": "ot6y5NoyrXZ4"
      },
      "execution_count": 68,
      "outputs": []
    },
    {
      "cell_type": "code",
      "source": [
        "fake_news_det(\"\"\"Daniel Greenfield, a Shillman Journalism Fellow at the Freedom Center, is a New York writer focusing on radical Islam. \n",
        "In the final stretch of the election, Hillary Rodham Clinton has gone to war with the FBI. \n",
        "The word â€œunprecedentedâ€ has been thrown around so often this election that it ought to be retired. But itâ€™s still unprecedented for the nominee of a major political party to go war with the FBI. \n",
        "But thatâ€™s exactly what Hillary and her people have done. Coma patients just waking up now and watching an hour of CNN from their hospital beds would assume that FBI Director James Comey is Hillaryâ€™s opponent in this election. \n",
        "The FBI is under attack by everyone from Obama to CNN. Hillaryâ€™s people have circulated a letter attacking Comey. There are currently more media hit pieces lambasting him than targeting Trump. It wouldnâ€™t be too surprising if the Clintons or their allies were to start running attack ads against the FBI. \n",
        "The FBIâ€™s leadership is being warned that the entire left-wing establishment will form a lynch mob if they continue going after Hillary. And the FBIâ€™s credibility is being attacked by the media and the Democrats to preemptively head off the results of the investigation of the Clinton Foundation and Hillary Clinton. \n",
        "The covert struggle between FBI agents and Obamaâ€™s DOJ people has gone explosively public. \n",
        "The New York Times has compared Comey to J. Edgar Hoover. Its bizarre headline, â€œJames Comey Role Recalls Hooverâ€™s FBI, Fairly or Notâ€ practically admits up front that itâ€™s spouting nonsense. The Boston Globe has published a column calling for Comeyâ€™s resignation. Not to be outdone, Time has an editorial claiming that the scandal is really an attack on all women. \n",
        "James Carville appeared on MSNBC to remind everyone that he was still alive and insane. He accused Comey of coordinating with House Republicans and the KGB. And you thought the â€œvast right wing conspiracyâ€ was a stretch. \n",
        "Countless media stories charge Comey with violating procedure. Do you know whatâ€™s a procedural violation? Emailing classified information stored on your bathroom server. \n",
        "Senator Harry Reid has sent Comey a letter accusing him of violating the Hatch Act. The Hatch Act is a nice idea that has as much relevance in the age of Obama as the Tenth Amendment. But the cable news spectrum quickly filled with media hacks glancing at the Wikipedia article on the Hatch Act under the table while accusing the FBI director of one of the most awkward conspiracies against Hillary ever. \n",
        "If James Comey is really out to hurt Hillary, he picked one hell of a strange way to do it. \n",
        "Not too long ago Democrats were breathing a sigh of relief when he gave Hillary Clinton a pass in a prominent public statement. If he really were out to elect Trump by keeping the email scandal going, why did he trash the investigation? Was he on the payroll of House Republicans and the KGB back then and playing it coy or was it a sudden development where Vladimir Putin and Paul Ryan talked him into taking a look at Anthony Weinerâ€™s computer? \n",
        "Either Comey is the most cunning FBI director that ever lived or heâ€™s just awkwardly trying to navigate a political mess that has trapped him between a DOJ leadership whose political futures are tied to Hillaryâ€™s victory and his own bureau whose apolitical agents just want to be allowed to do their jobs. \n",
        "The only truly mysterious thing is why Hillary and her associates decided to go to war with a respected Federal agency. Most Americans like the FBI while Hillary Clinton enjoys a 60% unfavorable rating. \n",
        "And itâ€™s an interesting question. \n",
        "Hillaryâ€™s old strategy was to lie and deny that the FBI even had a criminal investigation underway. Instead her associates insisted that it was a security review. The FBI corrected her and she shrugged it off. But the old breezy denial approach has given way to a savage assault on the FBI. \n",
        "Pretending that nothing was wrong was a bad strategy, but it was a better one that picking a fight with the FBI while lunatic Clinton associates try to claim that the FBI is really the KGB. \n",
        "There are two possible explanations. \n",
        "Hillary Clinton might be arrogant enough to lash out at the FBI now that she believes that victory is near. The same kind of hubris that led her to plan her victory fireworks display could lead her to declare a war on the FBI for irritating her during the final miles of her campaign. \n",
        "But the other explanation is that her people panicked. \n",
        "Going to war with the FBI is not the behavior of a smart and focused presidential campaign. Itâ€™s an act of desperation. When a presidential candidate decides that her only option is to try and destroy the credibility of the FBI, thatâ€™s not hubris, itâ€™s fear of what the FBI might be about to reveal about her. \n",
        "During the original FBI investigation, Hillary Clinton was confident that she could ride it out. And she had good reason for believing that. But that Hillary Clinton is gone. In her place is a paranoid wreck. Within a short space of time the â€œpositiveâ€ Clinton campaign promising to unite the country has been replaced by a desperate and flailing operation that has focused all its energy on fighting the FBI. \n",
        "Thereâ€™s only one reason for such bizarre behavior. \n",
        "The Clinton campaign has decided that an FBI investigation of the latest batch of emails poses a threat to its survival. And so itâ€™s gone all in on fighting the FBI. Itâ€™s an unprecedented step born of fear. Itâ€™s hard to know whether that fear is justified. But the existence of that fear already tells us a whole lot. \n",
        "Clinton loyalists rigged the old investigation. They knew the outcome ahead of time as well as they knew the debate questions. Now suddenly they are no longer in control. And they are afraid. \n",
        "You can smell the fear. \n",
        "The FBI has wiretaps from the investigation of the Clinton Foundation. Itâ€™s finding new emails all the time. And Clintonworld panicked. The spinmeisters of Clintonworld have claimed that the email scandal is just so much smoke without fire. All thatâ€™s here is the appearance of impropriety without any of the substance. But this isnâ€™t how you react to smoke. Itâ€™s how you respond to a fire. \n",
        "The misguided assault on the FBI tells us that Hillary Clinton and her allies are afraid of a revelation bigger than the fundamental illegality of her email setup. The email setup was a preemptive cover up. The Clinton campaign has panicked badly out of the belief, right or wrong, that whatever crime the illegal setup was meant to cover up is at risk of being exposed. \n",
        "The Clintons have weathered countless scandals over the years. Whatever they are protecting this time around is bigger than the usual corruption, bribery, sexual assaults and abuses of power that have followed them around throughout the years. This is bigger and more damaging than any of the allegations that have already come out. And they donâ€™t want FBI investigators anywhere near it. \n",
        "The campaign against Comey is pure intimidation. Itâ€™s also a warning. Any senior FBI people who value their careers are being warned to stay away. The Democrats are closing ranks around their nominee against the FBI. Itâ€™s an ugly and unprecedented scene. It may also be their last stand. \n",
        "Hillary Clinton has awkwardly wound her way through numerous scandals in just this election cycle. But sheâ€™s never shown fear or desperation before. Now that has changed. Whatever she is afraid of, it lies buried in her emails with Huma Abedin. And it can bring her down like nothing else has.  \"\"\")"
      ],
      "metadata": {
        "colab": {
          "base_uri": "https://localhost:8080/"
        },
        "id": "rkjyG14yrc55",
        "outputId": "3b508c86-6939-402f-8070-26c8ec9f6414"
      },
      "execution_count": 69,
      "outputs": [
        {
          "output_type": "stream",
          "name": "stdout",
          "text": [
            "['FAKE']\n"
          ]
        }
      ]
    }
  ]
}